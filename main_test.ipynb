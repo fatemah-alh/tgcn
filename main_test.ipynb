{
 "cells": [
  {
   "cell_type": "code",
   "execution_count": 5,
   "metadata": {},
   "outputs": [],
   "source": [
    "import torch\n",
    "import torch.nn.functional as F\n",
    "import numpy as np\n",
    "from model import TemporalGNNBatch\n",
    "from dataloader import DataLoader\n",
    "from torch_geometric_temporal.signal import temporal_signal_split\n",
    "from tqdm import tqdm \n",
    "import torch.optim.lr_scheduler as lr_scheduler\n",
    "import datetime\n",
    "import os\n",
    "\n",
    "from torch_geometric_temporal.nn.recurrent import A3TGCN,A3TGCN2\n",
    "import yaml\n",
    "from tensorboardX import SummaryWriter\n",
    "\n",
    "torch.manual_seed(100)\n",
    "\n",
    "name_exp = 'biovid'\n",
    "config_file=open(\"./config/\"+name_exp+\".yml\", 'r')\n",
    "config = yaml.safe_load(config_file)\n"
   ]
  },
  {
   "cell_type": "code",
   "execution_count": 3,
   "metadata": {},
   "outputs": [],
   "source": [
    "class TemporalGNNBatch(torch.nn.Module):\n",
    "    def __init__(self, node_features=4,output_features=1,num_nodes=51,embed_dim=32, periods=137,batch_size=32):\n",
    "        super(TemporalGNNBatch, self).__init__()\n",
    "        self.node_features = node_features\n",
    "        self.embed_dim=embed_dim\n",
    "        self.periods=periods\n",
    "        self.output_features=output_features\n",
    "        self.num_nodes=num_nodes\n",
    "        self.batch_size=batch_size\n",
    "        self.tgnn = A3TGCN2(in_channels=self.node_features,\n",
    "                           out_channels=self.embed_dim,\n",
    "                           periods=self.periods,batch_size=self.batch_size)\n",
    "        self.dropout = torch.nn.Dropout(0.2)\n",
    "        self.linear_1= torch.nn.Linear(self.embed_dim*self.num_nodes, 500)# input[32,[51*32]] uscita come [batch 32, 51*1] per ogni nodo ha un imbed di dimensione 32 invece del 137\n",
    "        self.linear_2=torch.nn.Linear(500, self.output_features)# batch [32, 51] [32,1]\n",
    "\n",
    "\n",
    "    def forward(self, x, edge_index):\n",
    "        \"\"\"\n",
    "        x = Node features for T time steps [51,4,137]\n",
    "        edge_index = Graph edge indices [2,num_edges]\n",
    "        \"\"\"\n",
    "        h = self.tgnn(x, edge_index) #batch,\n",
    "      \n",
    "        h=self.dropout(h)\n",
    "        h=h.view(-1,self.embed_dim*self.num_nodes)\n",
    "        h = self.linear_1(h)\n",
    "        #h = F.relu(h)\n",
    "        #print(\"linear 1 shape\", h)\n",
    "       \n",
    "        #print(h.shape)\n",
    "       # print(\"linear 1 shape after view\", h.shape)\n",
    "        h= self.linear_2(h)\n",
    "        #print(\"linear 12 shape\", h.shape)\n",
    "        #h = F.relu(h)\n",
    "        h=5.0 * torch.sigmoid(h)\n",
    "        \n",
    "        #h=h.view(-1)\n",
    "        #print(\"relu\", h.shape)\n",
    "       # print(\"finale h \", h)\n",
    "        return h\n"
   ]
  },
  {
   "cell_type": "code",
   "execution_count": 6,
   "metadata": {},
   "outputs": [
    {
     "data": {
      "text/plain": [
       "TemporalGNNBatch(\n",
       "  (tgnn): A3TGCN2(\n",
       "    (_base_tgcn): TGCN2(\n",
       "      (conv_z): GCNConv(4, 32)\n",
       "      (linear_z): Linear(in_features=64, out_features=32, bias=True)\n",
       "      (conv_r): GCNConv(4, 32)\n",
       "      (linear_r): Linear(in_features=64, out_features=32, bias=True)\n",
       "      (conv_h): GCNConv(4, 32)\n",
       "      (linear_h): Linear(in_features=64, out_features=32, bias=True)\n",
       "    )\n",
       "  )\n",
       "  (dropout): Dropout(p=0.2, inplace=False)\n",
       "  (linear_1): Linear(in_features=1632, out_features=500, bias=True)\n",
       "  (linear_2): Linear(in_features=500, out_features=1, bias=True)\n",
       ")"
      ]
     },
     "execution_count": 6,
     "metadata": {},
     "output_type": "execute_result"
    }
   ],
   "source": [
    "TemporalGNNBatch()"
   ]
  },
  {
   "cell_type": "code",
   "execution_count": 7,
   "metadata": {},
   "outputs": [
    {
     "name": "stdout",
     "output_type": "stream",
     "text": [
      "set cuda device\n"
     ]
    }
   ],
   "source": [
    "if torch.cuda.is_available():\n",
    "    print(\"set cuda device\")\n",
    "    device=\"cuda\"\n",
    "    torch.cuda.set_device(1)\n",
    "else:\n",
    "    device=\"cpu\"\n",
    "    print('Warning: Using CPU')"
   ]
  },
  {
   "cell_type": "code",
   "execution_count": null,
   "metadata": {},
   "outputs": [],
   "source": []
  }
 ],
 "metadata": {
  "kernelspec": {
   "display_name": "tgcn",
   "language": "python",
   "name": "python3"
  },
  "language_info": {
   "codemirror_mode": {
    "name": "ipython",
    "version": 3
   },
   "file_extension": ".py",
   "mimetype": "text/x-python",
   "name": "python",
   "nbconvert_exporter": "python",
   "pygments_lexer": "ipython3",
   "version": "3.7.16"
  },
  "orig_nbformat": 4
 },
 "nbformat": 4,
 "nbformat_minor": 2
}
